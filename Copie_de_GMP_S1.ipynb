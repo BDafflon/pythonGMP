{
  "nbformat": 4,
  "nbformat_minor": 0,
  "metadata": {
    "colab": {
      "name": "Copie de GMP-S1.ipynb",
      "provenance": [],
      "collapsed_sections": [],
      "toc_visible": true,
      "include_colab_link": true
    },
    "kernelspec": {
      "display_name": "Python 3",
      "language": "python",
      "name": "python3"
    },
    "language_info": {
      "codemirror_mode": {
        "name": "ipython",
        "version": 3
      },
      "file_extension": ".py",
      "mimetype": "text/x-python",
      "name": "python",
      "nbconvert_exporter": "python",
      "pygments_lexer": "ipython3",
      "version": "3.6.7"
    }
  },
  "cells": [
    {
      "cell_type": "markdown",
      "metadata": {
        "id": "view-in-github",
        "colab_type": "text"
      },
      "source": [
        "<a href=\"https://colab.research.google.com/github/BDafflon/pythonGMP/blob/master/Copie_de_GMP_S1.ipynb\" target=\"_parent\"><img src=\"https://colab.research.google.com/assets/colab-badge.svg\" alt=\"Open In Colab\"/></a>"
      ]
    },
    {
      "cell_type": "markdown",
      "metadata": {
        "colab_type": "text",
        "id": "Vhx2p37P4NT0"
      },
      "source": [
        "# Initiation à la programation - GMP S1 - 2019"
      ]
    },
    {
      "cell_type": "markdown",
      "metadata": {
        "colab_type": "text",
        "id": "NyzWhT8Y4ecB"
      },
      "source": [
        "Depuis son invention dans les années 1980, les technologies de l'information et de la communication ont révolutionnées tous les domaines de notre vie quotidienne. \n",
        "\n",
        "1.   Le calcul d'un itinéraire depuis un site Internet ou un GPS\n",
        "2.   La réservation à distance d'un billet de train ou d'avion\n",
        "3.   la possibilité de voir et de parler avec des amis à l'autre \n",
        "4.   etc.\n",
        "\n",
        "Tous ces actes courants sont possibles grâce aux ordinateurs et aux robots. "
      ]
    },
    {
      "cell_type": "markdown",
      "metadata": {
        "colab_type": "text",
        "id": "JUWepB_O5S7I"
      },
      "source": [
        "## Introduction au fonctionnement d'un ordinateur"
      ]
    },
    {
      "cell_type": "markdown",
      "metadata": {
        "colab_type": "text",
        "id": "goVd09mE5Yz2"
      },
      "source": [
        "Un ordinateur, même très performant, n'est qu'une machine \"stupide\". Elle n'est capable que d'exécuter automatiquement une suite d'opérations simples qu'un operateur lui a demandé (une addition, une soustraction, etc.).\n",
        "\n",
        "Il ne dispose par lui-même d'aucune capacité cognitive comme l'apprentissage, le jugement, d'improvisation, etc. L'ordinateur se contente de faire ce que l'operateur lui demande de faire, ou qu'un programme decrit.\n",
        "\n",
        "**Ex1 :** résumer en une phrase les deux paragraphes précédents.\n",
        "\n"
      ]
    },
    {
      "cell_type": "markdown",
      "metadata": {
        "colab_type": "text",
        "id": "RpGG-Ri76SCN"
      },
      "source": [
        "\n",
        "\n",
        "Le point fort des ordinateur est de savoir traiter un grand nombre d'operation en tres peut de temps. L'efficacité de l'ordinateur va dependre de \"comment\" les informations necessaires a ces operations vont lui etre decrite.\n",
        "\n",
        "Comme pour une calculatrice, une voiture ou un four, une intervention humaine est nécessaire pour qu'un ordinateur puisse accomplir des tâches. C'est le rôle du programmeur. Il va fournir les ordres que la machine doit exécuter en les écrivant dans des programmes. \n",
        "\n",
        "Un programme informatique, qu'on appelle aussi logiciel, appli ou application,  est une liste d'ordres indiquant à un ordinateur étape apres étape ce qu'il doit faire. Chaque étape est une **instruction élémentaire**. \n",
        "\n",
        "**Ex2 :** résumer en une phrase les paragraphes précédents.\n",
        "\n"
      ]
    },
    {
      "cell_type": "markdown",
      "metadata": {
        "colab_type": "text",
        "id": "ee4MJ-6_8pZ4"
      },
      "source": [
        "Une instruction élémentaire est une phrase écrite dans un **language** compréhencible par l'ordinateur mais aussi par un humain. On appelle cela un language de programmation.\n",
        "\n",
        "Comme le francais, l'anglais, l'espagnol, etc. il existe une multitude de languages de programmation. Les plus populaires sont le python, le java, le C, etc. et répondent tous a des besoins specifiques. \n",
        "\n",
        "Le dictionnaire de ces languages s'appelle les **mots clés**. et un livre regroupant des phrases, un **programme**.\n",
        "\n",
        "Pour être utilisable, un code source doit réspecter la grammaire du language appellée **syntax**.\n",
        "\n",
        "**Ex3 :** résumer en une phrase les paraphes précédents."
      ]
    },
    {
      "cell_type": "markdown",
      "metadata": {
        "colab_type": "text",
        "id": "r1kry9oe-4EO"
      },
      "source": [
        "## Programmation en python"
      ]
    },
    {
      "cell_type": "markdown",
      "metadata": {
        "colab_type": "text",
        "id": "f2jIiMy4_eVM"
      },
      "source": [
        "*Note : Nous utisons un site internet appellé jupyter. Vous pouvez executer du code python en selectionnant une ligne python et en cliquant sur la fleche dans la marge.*\n",
        "\n",
        "\n",
        "Dans ce chapitre, nous allons voir comment utiliser le language Python. Ce language a une grammaire simple et une structure tres accecible. De plus, il est gratuit et opensource. "
      ]
    },
    {
      "cell_type": "markdown",
      "metadata": {
        "id": "Fft9EIIOGCLQ",
        "colab_type": "text"
      },
      "source": [
        "Commencons par quelsques exemples."
      ]
    },
    {
      "cell_type": "code",
      "metadata": {
        "colab_type": "code",
        "id": "fRcDqwBN_NPO",
        "colab": {}
      },
      "source": [
        "#Programme 1\n",
        "print(\"Bonjour\")"
      ],
      "execution_count": 0,
      "outputs": []
    },
    {
      "cell_type": "markdown",
      "metadata": {
        "colab_type": "text",
        "id": "mu_XmfXA_ioE"
      },
      "source": [
        "**Ex4 :** Que fait ce programme ?"
      ]
    },
    {
      "cell_type": "markdown",
      "metadata": {
        "colab_type": "text",
        "id": "_80qcKwH_0X7"
      },
      "source": [
        "Nous pouvons detailler l'instruction print(\"Bonjour\"):\n",
        "\n",
        "\n",
        "1.   Print() est une fonction proposé par Python. Elle sert a afficher un text dans la console.\n",
        "2.   \"Bonjour\" est une chaine de caractère, un text que Python peut afficher. Une chaine de caractère doit toujours etre ecrite entre guillemet.\n",
        "\n",
        "\n",
        "\n",
        "\n",
        "\n",
        "\n",
        "Nous pouvons ajouter autant de ligne que nous voulons :"
      ]
    },
    {
      "cell_type": "code",
      "metadata": {
        "colab_type": "code",
        "id": "KmZUQvPw4dt6",
        "colab": {}
      },
      "source": [
        "#Programme 2\n",
        "print(\"Bonjour\")\n",
        "print(\"Martin\")"
      ],
      "execution_count": 0,
      "outputs": []
    },
    {
      "cell_type": "markdown",
      "metadata": {
        "colab_type": "text",
        "id": "sCic5fW-_64j"
      },
      "source": [
        "**EX5 :** \n",
        "\n",
        "*   Que fait ce programme ?\n",
        "*   Combien y a t'il d'instructions ?\n",
        "*   Comment pouvons nous réécrire ce prgramme en une seul instruction ?\n",
        "\n",
        "\n"
      ]
    },
    {
      "cell_type": "markdown",
      "metadata": {
        "colab_type": "text",
        "id": "9BY0KscODVlc"
      },
      "source": [
        "L'affichage est une instruction élémentaire permetant d'afficher un message. Cependant, elle n'est pas tres utile pour le traitement des données.\n",
        "\n",
        "L'instruction la plus importante est **l'affectation** (ou \"assignation\") et conserne les **variables**.\n",
        "\n",
        "\n",
        "\n"
      ]
    },
    {
      "cell_type": "markdown",
      "metadata": {
        "colab_type": "text",
        "id": "I5wJRHwVD9Fr"
      },
      "source": [
        "### Les variables"
      ]
    },
    {
      "cell_type": "markdown",
      "metadata": {
        "colab_type": "text",
        "id": "8LTaouJzEAh6"
      },
      "source": [
        "Une **variable** est un espace mémoire dans lequel il est possible de mettre une valeur. Par exemple, si en français je dis *x* est égal à 1, j'utilise la **variable** dont le nom est *x* pour lui fixer la valeur 1.\n",
        "\n",
        "On peut imaginer les variables comme des boites ayant un nom et contenant une valeur. Par exemple:"
      ]
    },
    {
      "cell_type": "markdown",
      "metadata": {
        "colab_type": "text",
        "id": "4F74FFeeEwNB"
      },
      "source": [
        "![variable.jpeg](attachment:variable.jpeg)"
      ]
    },
    {
      "cell_type": "markdown",
      "metadata": {
        "colab_type": "text",
        "id": "nB4h2-K4FyNQ"
      },
      "source": [
        "Pour utiliser une variable en python, nous avons besoin de l'operation élémentaire d'**affectation**. Cette operation est possible grace au symbole **=** .\n",
        "\n",
        "Par exemple pour utiliser la boite x ayant comme contenu 3, on écrit:"
      ]
    },
    {
      "cell_type": "code",
      "metadata": {
        "colab_type": "code",
        "id": "i3ZtyAl8DQ4b",
        "colab": {}
      },
      "source": [
        "#Programme 3\n",
        "x=3"
      ],
      "execution_count": 0,
      "outputs": []
    },
    {
      "cell_type": "markdown",
      "metadata": {
        "colab_type": "text",
        "id": "ugtErsVhCKbK"
      },
      "source": [
        "Nous pouvons utiliser autant de variable que necessaire mais il faut respecter certaine regles:\n",
        "\n",
        "\n",
        "1.   Le nom d'une variable doit commencer par une lettre (ex : nom, age, nbVie, etc.\n",
        "2.   la première operation est obligatoirement une affectation\n",
        "3.   La variable a un type (entier, reel, chaine de caractere,etc.)\n",
        "4.   Les types ne se melangent pas.\n",
        "\n"
      ]
    },
    {
      "cell_type": "markdown",
      "metadata": {
        "colab_type": "text",
        "id": "YmctsV0BG0oU"
      },
      "source": [
        "**Ex6 :**\n",
        "Rayer les instructions impossibles, dites pourquoi et corrigez si possible."
      ]
    },
    {
      "cell_type": "code",
      "metadata": {
        "id": "l9qp78-YDloD",
        "colab_type": "code",
        "colab": {}
      },
      "source": [
        "#Programme 4\n",
        "X+Y\n",
        "3Vie = 10\n",
        "nomParent = \"Pierre\"\n",
        "nomChient = Milou\n",
        "x=10"
      ],
      "execution_count": 0,
      "outputs": []
    },
    {
      "cell_type": "markdown",
      "metadata": {
        "id": "XnCe2uFdDloH",
        "colab_type": "text"
      },
      "source": [
        "L'affectation est une operation a sens unique. L'affectation suivante"
      ]
    },
    {
      "cell_type": "code",
      "metadata": {
        "id": "1gbuKc2gDloJ",
        "colab_type": "code",
        "colab": {}
      },
      "source": [
        "#Programme 5\n",
        "nomDuChien=\"Meru\""
      ],
      "execution_count": 0,
      "outputs": []
    },
    {
      "cell_type": "markdown",
      "metadata": {
        "id": "-tnrUgsLDloO",
        "colab_type": "text"
      },
      "source": [
        "doit se lire \"La variable nomé nomDuChien a pour valeur Meru. Cela correspond a l'enregistrement de la chaine de caractere \"Meru\" dans la mémoir RAM de l'ordinateur sous le nom de \"nomDuChien\".\n",
        "\n",
        "En utilisant la fonction print() nous pouvons afficher le contenu d'une variable:"
      ]
    },
    {
      "cell_type": "code",
      "metadata": {
        "id": "K-zY0l_2DloP",
        "colab_type": "code",
        "colab": {}
      },
      "source": [
        "#Programme 6\n",
        "nomDuChien = \"Meru\"\n",
        "print(nomDuChien)"
      ],
      "execution_count": 0,
      "outputs": []
    },
    {
      "cell_type": "code",
      "metadata": {
        "id": "zV4NIlbNDloT",
        "colab_type": "code",
        "colab": {}
      },
      "source": [
        "#Programme 7\n",
        "x=3\n",
        "print(x)"
      ],
      "execution_count": 0,
      "outputs": []
    },
    {
      "cell_type": "markdown",
      "metadata": {
        "id": "sXJTiDh3DloY",
        "colab_type": "text"
      },
      "source": [
        "Il est possible de ré-affecter autant de fois que necessaire une variable :"
      ]
    },
    {
      "cell_type": "code",
      "metadata": {
        "id": "ITJaxUqCDloa",
        "colab_type": "code",
        "colab": {}
      },
      "source": [
        "#Programme 8\n",
        "nomDuChien = \"Meru\"\n",
        "print(nomDuChien)\n",
        "nomDuChien=\"Milou\"\n",
        "print(nomDuChien)\n",
        "nomDuChien=\"Medor\""
      ],
      "execution_count": 0,
      "outputs": []
    },
    {
      "cell_type": "markdown",
      "metadata": {
        "id": "Qj__riK3Dloe",
        "colab_type": "text"
      },
      "source": [
        "**Ex7 :** \n",
        "1.  Que fait ce programme?\n",
        "2.  Quelle est la valeur de la variable \"nomDuChien\" a la fin du programme?\n",
        "\n",
        "**Ex8 :** Trouvez les erreurs, expliquez pourquoi ce sont des erreurs et corriger les si possible."
      ]
    },
    {
      "cell_type": "code",
      "metadata": {
        "id": "qA-9bM6JDlof",
        "colab_type": "code",
        "colab": {}
      },
      "source": [
        "#Programme 9\n",
        "x=4\n",
        "y=7\n",
        "Print(x)\n",
        "print(X)\n",
        "print(\"x\")\n",
        "chien=\"milou\"\n",
        "print(milou)"
      ],
      "execution_count": 0,
      "outputs": []
    },
    {
      "cell_type": "markdown",
      "metadata": {
        "id": "Xa2j75uQKzFJ",
        "colab_type": "text"
      },
      "source": [
        "Les variables sont donc des espaces de stockage. On peut les utiliser pour sauvgarder une valeur grace a l'affectation. L'affectation n'est pas la seule operations disponible pour manipuler des variables. Nous pouvons utiliser beaucoup d'autre operations tel que l'addition, la multiplication, et autre operateur mathematique.\n",
        "\n",
        "Exemple: la soustraction"
      ]
    },
    {
      "cell_type": "code",
      "metadata": {
        "id": "jdaLbRRXLi8A",
        "colab_type": "code",
        "colab": {}
      },
      "source": [
        "#Programme10\n",
        "nbPointDeVie = 100\n",
        "nbDegatChut=10\n",
        "print(nbPointDeVie)\n",
        "nbPointDeVie=nbPointDeVie - nbDegatChut\n",
        "print(nbPointDeVie)\n"
      ],
      "execution_count": 0,
      "outputs": []
    },
    {
      "cell_type": "markdown",
      "metadata": {
        "id": "vivhAPedO2dl",
        "colab_type": "text"
      },
      "source": [
        "Exemple : l'addition"
      ]
    },
    {
      "cell_type": "code",
      "metadata": {
        "id": "yUAyqFD0O5Ob",
        "colab_type": "code",
        "colab": {}
      },
      "source": [
        "#Programme11\n",
        "nbPointDeVie = 100\n",
        "nbPointDeViePotion=10\n",
        "print(nbPointDeVie)\n",
        "nbPointDeVie=nbPointDeVie + nbDegatChut\n",
        "print(nbPointDeVie)"
      ],
      "execution_count": 0,
      "outputs": []
    },
    {
      "cell_type": "markdown",
      "metadata": {
        "id": "Tr8HdsZJPLFe",
        "colab_type": "text"
      },
      "source": [
        "**Ex 9**: Résumez en une phrase les paragraphes précedents"
      ]
    },
    {
      "cell_type": "markdown",
      "metadata": {
        "id": "CF1lcqviPGIS",
        "colab_type": "text"
      },
      "source": [
        "Pour avancer dans le cours, nous allons introduire une nouvelle fonction. Sans rentrer dans les details, une fonction est un sous-programme que nous pouvons utiliser grace a son nom. Nous connaissions deja **print()**, nous allons maintenant utiliser **input()**.\n",
        "\n",
        "La fonction **input()** est un sous-programme qui \"ecoute\" les changements sur **l'entrée standard** et les transformes en valeur.\n",
        "\n",
        "L'entrée standard dans notre cas est le clavier. Pour un telephone portable, ce sera l'ecran tactil, pour un tableau de commande, ce sera les boutons, etc.\n",
        "\n",
        "Voila comment utiliser la fonction **input()** :"
      ]
    },
    {
      "cell_type": "code",
      "metadata": {
        "id": "Wp-sDT9mYAZM",
        "colab_type": "code",
        "colab": {}
      },
      "source": [
        "#Programme12\n",
        "x=input()\n",
        "print(x)"
      ],
      "execution_count": 0,
      "outputs": []
    },
    {
      "cell_type": "markdown",
      "metadata": {
        "id": "C24pLMqBYImp",
        "colab_type": "text"
      },
      "source": [
        "Nous pouvons préciser à l'utilisateur la valeur attendu en ajoutant un parametre a la fonction **input()** sous la forme d'une chaine de caractere:"
      ]
    },
    {
      "cell_type": "code",
      "metadata": {
        "id": "l-Ivx5H0YTgo",
        "colab_type": "code",
        "colab": {}
      },
      "source": [
        "#Programme13\n",
        "nomDuJoueur=input(\"Pseudo du joueur\")\n",
        "print(nomDuJoueur)"
      ],
      "execution_count": 0,
      "outputs": []
    },
    {
      "cell_type": "markdown",
      "metadata": {
        "id": "Jobz0JkJZN-T",
        "colab_type": "text"
      },
      "source": [
        "Grace a cette fonction nous pouvons maintenant interagir avec un programme. C'est la base de la programmation \"Human in the loop\". Nous y reviendrons plus tard."
      ]
    },
    {
      "cell_type": "markdown",
      "metadata": {
        "id": "gspceT6wZi2O",
        "colab_type": "text"
      },
      "source": [
        "**Ex 10:**\n",
        "Ecrir un programme qui demande une distance en centimetre et qui affiche la valeur en metre."
      ]
    },
    {
      "cell_type": "code",
      "metadata": {
        "id": "_rKdGVQOZv0k",
        "colab_type": "code",
        "colab": {}
      },
      "source": [
        ""
      ],
      "execution_count": 0,
      "outputs": []
    },
    {
      "cell_type": "markdown",
      "metadata": {
        "id": "bcRA6UNaZwVr",
        "colab_type": "text"
      },
      "source": [
        "**Ex 11:** Identifier les erreurs et les corriger si possible"
      ]
    },
    {
      "cell_type": "code",
      "metadata": {
        "id": "mIq9csGNakcc",
        "colab_type": "code",
        "colab": {}
      },
      "source": [
        "#Programme14\n",
        "nomDuJoueur=input(\"Pseudo du joueur\")\n",
        "print(nomDujoueur)\n",
        "nbPointDeVie=100\n",
        "nbPointdeVie=nbPointDeVie-Degat\n",
        "print(nbPointDeVie)\n",
        "print(Degat)"
      ],
      "execution_count": 0,
      "outputs": []
    },
    {
      "cell_type": "markdown",
      "metadata": {
        "id": "08QnvdMoa2sI",
        "colab_type": "text"
      },
      "source": [
        "**Ex 12:** Résumer en une phrase les paragraphes précedents"
      ]
    },
    {
      "cell_type": "markdown",
      "metadata": {
        "id": "FPsb07GxcDIy",
        "colab_type": "text"
      },
      "source": [
        "### Le choix conditionnel"
      ]
    },
    {
      "cell_type": "markdown",
      "metadata": {
        "id": "4rgrSqkDcJic",
        "colab_type": "text"
      },
      "source": [
        "Jusqu'à présent, toutes les instructions de nos programmes était des instructions élémentaire et toutes etait systématiquement exécutées par Python. \n",
        "\n",
        "Nous allons voir comment enrichir nos programmes en y ajoutant des possibilités d'exécution conditionnelle.\n",
        "\n",
        "La sytax d'un choix conditionnel en python est la suivante:"
      ]
    },
    {
      "cell_type": "code",
      "metadata": {
        "id": "u2g10848d2Ik",
        "colab_type": "code",
        "colab": {}
      },
      "source": [
        "#programme15\n",
        "if condition :\n",
        "  instruction A\n",
        "else:\n",
        "  instriction B"
      ],
      "execution_count": 0,
      "outputs": []
    },
    {
      "cell_type": "markdown",
      "metadata": {
        "id": "6oaz6teJd9uD",
        "colab_type": "text"
      },
      "source": [
        "on appelle ce type d'instruction un **bloc** (par opposition à élémentaire). Nous pouvons le traduire par:\n",
        "\n",
        "**Si** la condition est vrai, **alors** l'instruction A sera executé **sinon** l'instruction B sera executé.\n",
        "\n",
        "La condition est également une instruction composée. Il s'agit d'une expression **booleenne**. Une expression **booléenne** est une expression qui donne une valeur booléenne (vrai ou faux). Par exemple, la valeur pour 5 > 3 est vrai et la valeur pour 5 < 4 est faux.\n",
        "\n",
        "Plus précisément, une expression booleenne prend la forme suivante:"
      ]
    },
    {
      "cell_type": "code",
      "metadata": {
        "id": "WTniPKsncCwb",
        "colab_type": "code",
        "colab": {}
      },
      "source": [
        "valeur operateur valeur"
      ],
      "execution_count": 0,
      "outputs": []
    },
    {
      "cell_type": "markdown",
      "metadata": {
        "id": "-sFF0_1-e_8y",
        "colab_type": "text"
      },
      "source": [
        "par exemple"
      ]
    },
    {
      "cell_type": "code",
      "metadata": {
        "id": "740b9h56fEOT",
        "colab_type": "code",
        "colab": {}
      },
      "source": [
        "#Programme16\n",
        "\n",
        "x<y\n",
        "y<5\n",
        "nom == \"Martin\""
      ],
      "execution_count": 0,
      "outputs": []
    },
    {
      "cell_type": "markdown",
      "metadata": {
        "id": "TLN_7ImKfQpT",
        "colab_type": "text"
      },
      "source": [
        "les operateurs de comparaison sont :\n",
        "\n",
        "\n",
        "*   l'egalité -> \"==\"\n",
        "*   superieur -> \">\"\n",
        "*   superieur ou egal -> \">=\"\n",
        "*   inferieur -> \"<\"\n",
        "*   inferieur ou egal -> \"<=\"\n",
        "*   different -> \"!=\"\n",
        "\n"
      ]
    },
    {
      "cell_type": "markdown",
      "metadata": {
        "id": "7LX4N47Cnz8b",
        "colab_type": "text"
      },
      "source": [
        "Il est important de noté que le bloc **else:** est facultatif. Nous pouvons ecrir \n"
      ]
    },
    {
      "cell_type": "code",
      "metadata": {
        "id": "oXrWndc-oZ8b",
        "colab_type": "code",
        "colab": {}
      },
      "source": [
        "if condition :\n",
        "  Instruction A\n",
        "  Instruction B\n",
        "  ..."
      ],
      "execution_count": 0,
      "outputs": []
    },
    {
      "cell_type": "markdown",
      "metadata": {
        "id": "8gSgKLiooe30",
        "colab_type": "text"
      },
      "source": [
        "On peut lire \"Si la condition est vrai, alors les Instruction A puis Instruction B puis ... seront executées\". La lite du bloc est defini par l'indentation.\n",
        "\n",
        "L'indentation est l'ajout d'une tabulation avant le code.\n",
        "L'indentation démarre le bloc et la désindendation le termine. Il n'y a pas d'accolades, de crochets ou de mots clés spécifiques. Cela signifie que les espaces blancs sont significatifs et qu'ils doivent être cohérents. "
      ]
    }
  ]
}