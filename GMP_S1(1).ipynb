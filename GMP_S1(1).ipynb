{
 "cells": [
  {
   "cell_type": "markdown",
   "metadata": {
    "colab_type": "text",
    "id": "Vhx2p37P4NT0"
   },
   "source": [
    "# Initiation à la programation \n",
    "### GMP S1 - 2019"
   ]
  },
  {
   "cell_type": "markdown",
   "metadata": {
    "colab_type": "text",
    "id": "NyzWhT8Y4ecB"
   },
   "source": [
    "Depuis son invention dans les années 1980, les technologies de l'information et de la communication ont révolutionnées tous les domaines de notre vie quotidienne. \n",
    "\n",
    "1.   Le calcul d'un itinéraire depuis un site Internet ou un GPS\n",
    "2.   La réservation à distance d'un billet de train ou d'avion\n",
    "3.   la possibilité de voir et de parler avec des amis à l'autre \n",
    "4.   etc.\n",
    "\n",
    "Tous ces actes courants sont possibles grâce aux ordinateurs et aux robots. "
   ]
  },
  {
   "cell_type": "markdown",
   "metadata": {
    "colab_type": "text",
    "id": "JUWepB_O5S7I"
   },
   "source": [
    "### Introduction au fonctionnement d'un ordinateur"
   ]
  },
  {
   "cell_type": "markdown",
   "metadata": {
    "colab_type": "text",
    "id": "goVd09mE5Yz2"
   },
   "source": [
    "Un ordinateur, même très performant, n'est qu'une machine \"stupide\". Elle n'est capable que d'exécuter automatiquement une suite d'opérations simples qu'un operateur lui a demandé (une addition, une soustraction, etc.).\n",
    "\n",
    "Il ne dispose par lui-même d'aucune capacité cognitive comme l'apprentissage, le jugement, d'improvisation, etc. L'ordinateur se contente de faire ce que l'operateur lui demande de faire, ou qu'un programme decrit.\n",
    "\n",
    "**Ex1 :** résumer en une phrase les deux paragraphes précédents.\n",
    "\n"
   ]
  },
  {
   "cell_type": "markdown",
   "metadata": {
    "colab_type": "text",
    "id": "RpGG-Ri76SCN"
   },
   "source": [
    "\n",
    "\n",
    "Le point fort des ordinateur est de savoir traiter un grand nombre d'operation en tres peut de temps. L'efficacité de l'ordinateur va dependre de \"comment\" les informations necessaires a ces operations vont lui etre decrite.\n",
    "\n",
    "Comme pour une calculatrice, une voiture ou un four, une intervention humaine est nécessaire pour qu'un ordinateur puisse accomplir des tâches. C'est le rôle du programmeur. Il va fournir les ordres que la machine doit exécuter en les écrivant dans des programmes. \n",
    "\n",
    "Un programme informatique, qu'on appelle aussi logiciel, appli ou application,  est une liste d'ordres indiquant à un ordinateur étape apres étape ce qu'il doit faire. Chaque étape est une **instruction élémentaire**. \n",
    "\n",
    "**Ex2 :** résumer en une phrase les paragraphes précédents.\n",
    "\n"
   ]
  },
  {
   "cell_type": "markdown",
   "metadata": {
    "colab_type": "text",
    "id": "ee4MJ-6_8pZ4"
   },
   "source": [
    "Une instruction élémentaire est une phrase écrite dans un **language** compréhencible par l'ordinateur mais aussi par un humain. On appelle cela un language de programmation.\n",
    "\n",
    "Comme le francais, l'anglais, l'espagnol, etc. il existe une multitude de languages de programmation. Les plus populaires sont le python, le java, le C, etc. et répondent tous a des besoins specifiques. \n",
    "\n",
    "Le dictionnaire de ces languages s'appelle les **mots clés**. et un livre regroupant des phrases, un **programme**.\n",
    "\n",
    "Pour être utilisable, un code source doit réspecter la grammaire du language appellée **syntax**.\n",
    "\n",
    "**Ex3 :** résumer en une phrase les paraphes précédents."
   ]
  },
  {
   "cell_type": "markdown",
   "metadata": {
    "colab_type": "text",
    "id": "r1kry9oe-4EO"
   },
   "source": [
    "## Exemple de programme"
   ]
  },
  {
   "cell_type": "markdown",
   "metadata": {
    "colab_type": "text",
    "id": "f2jIiMy4_eVM"
   },
   "source": [
    "*Note : Nous utisons un site internet appellé jupyter. Vous pouvez executer du code python en selectionnant une ligne python et en cliquant sur la fleche dans la marge.*\n",
    "\n",
    "\n",
    "En python : "
   ]
  },
  {
   "cell_type": "code",
   "execution_count": null,
   "metadata": {
    "colab": {
     "base_uri": "https://localhost:8080/",
     "height": 35
    },
    "colab_type": "code",
    "id": "fRcDqwBN_NPO",
    "outputId": "a32e1d7c-f152-4a5d-d2e0-eb33b3d86c44"
   },
   "outputs": [],
   "source": [
    "print(\"Bonjour\")"
   ]
  },
  {
   "cell_type": "markdown",
   "metadata": {
    "colab_type": "text",
    "id": "mu_XmfXA_ioE"
   },
   "source": [
    "**Ex4 :** Que fait ce programme ?"
   ]
  },
  {
   "cell_type": "markdown",
   "metadata": {
    "colab_type": "text",
    "id": "_80qcKwH_0X7"
   },
   "source": [
    "Nous pouvons detailler l'instruction print(\"Bonjour\"):\n",
    "\n",
    "\n",
    "1.   Print() est une fonction proposé par Python. Elle sert a afficher un text dans la console.\n",
    "2.   \"Bonjour\" est une chaine de caractère, un text que Python peut afficher. Une chaine de caractère doit toujours etre ecrite entre guillemet.\n",
    "\n",
    "\n",
    "\n",
    "\n",
    "\n",
    "\n",
    "Nous pouvons ajouter autant de ligne que nous voulons :"
   ]
  },
  {
   "cell_type": "code",
   "execution_count": 0,
   "metadata": {
    "colab": {},
    "colab_type": "code",
    "id": "KmZUQvPw4dt6"
   },
   "outputs": [],
   "source": [
    "print(\"Bonjour\")\n",
    "print(\"Martin\")"
   ]
  },
  {
   "cell_type": "markdown",
   "metadata": {
    "colab_type": "text",
    "id": "sCic5fW-_64j"
   },
   "source": [
    "**EX5 :** \n",
    "\n",
    "*   Que fait ce programme ?\n",
    "*   Combien y a t'il d'instructions ?\n",
    "*   Comment pouvons nous réécrire ce prgramme en une seul instruction ?\n",
    "\n",
    "\n"
   ]
  },
  {
   "cell_type": "markdown",
   "metadata": {
    "colab_type": "text",
    "id": "9BY0KscODVlc"
   },
   "source": [
    "L'affichage est une instruction élémentaire permetant d'afficher un message. Cependant, elle n'est pas tres utile pour le traitement des données.\n",
    "\n",
    "L'instruction la plus importante est **l'affectation** (ou \"assignation\") et conserne les **variables**.\n",
    "\n",
    "\n",
    "\n"
   ]
  },
  {
   "cell_type": "markdown",
   "metadata": {
    "colab_type": "text",
    "id": "I5wJRHwVD9Fr"
   },
   "source": [
    "### Les variables"
   ]
  },
  {
   "cell_type": "markdown",
   "metadata": {
    "colab_type": "text",
    "id": "8LTaouJzEAh6"
   },
   "source": [
    "Une **variable** est un espace mémoire dans lequel il est possible de mettre une valeur. Par exemple, si en français je dis *x* est égal à 1, j'utilise la **variable** dont le nom est *x* pour lui fixer la valeur 1.\n",
    "\n",
    "On peut imaginer les variables comme des boites ayant un nom et contenant une valeur. Par exemple:"
   ]
  },
  {
   "attachments": {
    "variable.jpeg": {
     "image/jpeg": "[encoded data removed]"
    }
   },
   "cell_type": "markdown",
   "metadata": {
    "colab_type": "text",
    "id": "4F74FFeeEwNB"
   },
   "source": [
    "![variable.jpeg](attachment:variable.jpeg)"
   ]
  },
  {
   "cell_type": "markdown",
   "metadata": {
    "colab_type": "text",
    "id": "nB4h2-K4FyNQ"
   },
   "source": [
    "Pour utiliser une variable en python, nous avons besoin de l'operation élémentaire d'affectation. Cette operation est possible grace au symbole **=** .\n",
    "\n",
    "Par exemple pour utiliser la boite x ayant comme contenu 3, on écrit:"
   ]
  },
  {
   "cell_type": "code",
   "execution_count": 0,
   "metadata": {
    "colab": {},
    "colab_type": "code",
    "id": "i3ZtyAl8DQ4b"
   },
   "outputs": [],
   "source": [
    "x=3"
   ]
  },
  {
   "cell_type": "markdown",
   "metadata": {
    "colab_type": "text",
    "id": "ugtErsVhCKbK"
   },
   "source": [
    "Nous pouvons utiliser autant de variable que necessaire mais il faut respecter certaine regles:\n",
    "\n",
    "\n",
    "1.   Le nom d'une variable doit commencer par une lettre (ex : nom, age, nbVie, etc.\n",
    "2.   la première operation est obligatoirement une affectation\n",
    "3.   La variable a un type (entier, reel, chaine de caractere,etc.)\n",
    "4.   Les types ne se melangent pas.\n",
    "\n"
   ]
  },
  {
   "cell_type": "markdown",
   "metadata": {
    "colab_type": "text",
    "id": "YmctsV0BG0oU"
   },
   "source": [
    "**Ex6 :**\n",
    "Rayer les instructions impossibles, dites pourquoi et corrigez si possible."
   ]
  },
  {
   "cell_type": "code",
   "execution_count": null,
   "metadata": {},
   "outputs": [],
   "source": [
    "X+Y\n",
    "3Vie = 10\n",
    "nomParent = \"Pierre\"\n",
    "nomChient = Milou\n",
    "x=10"
   ]
  },
  {
   "cell_type": "markdown",
   "metadata": {},
   "source": [
    "L'affectation est une operation a sens unique. L'affectation suivante"
   ]
  },
  {
   "cell_type": "code",
   "execution_count": null,
   "metadata": {},
   "outputs": [],
   "source": [
    "nomDuChien=\"Meru\""
   ]
  },
  {
   "cell_type": "markdown",
   "metadata": {},
   "source": [
    "doit se lire \"La variable nomé nomDuChien a pour valeur Meru. Cela correspond a l'enregistrement de la chaine de caractere \"Meru\" dans la mémoir RAM de l'ordinateur sous le nom de \"nomDuChien\".\n",
    "\n",
    "En utilisant la fonction print() nous pouvons afficher le contenu d'une variable:"
   ]
  },
  {
   "cell_type": "code",
   "execution_count": null,
   "metadata": {},
   "outputs": [],
   "source": [
    "nomDuChien = \"Meru\"\n",
    "print(nomDuChien)"
   ]
  },
  {
   "cell_type": "code",
   "execution_count": null,
   "metadata": {},
   "outputs": [],
   "source": [
    "x=3\n",
    "print(x)"
   ]
  },
  {
   "cell_type": "markdown",
   "metadata": {},
   "source": [
    "Il est possible de ré-affecter autant de fois que necessaire une variable :"
   ]
  },
  {
   "cell_type": "code",
   "execution_count": null,
   "metadata": {},
   "outputs": [],
   "source": [
    "nomDuChien = \"Meru\"\n",
    "print(nomDuChien)\n",
    "nomDuChien=\"Milou\"\n",
    "print(nomDuChien)\n",
    "nomDuChien=\"Medor\""
   ]
  },
  {
   "cell_type": "markdown",
   "metadata": {},
   "source": [
    "**Ex7 :** \n",
    "1.  Que fait ce programme?\n",
    "2.  Quelle est la valeur de la variable \"nomDuChien\" a la fin du programme?\n",
    "\n",
    "**Ex8 :** Trouvez les erreurs, expliquez pourquoi ce sont des erreurs et corriger les si possible."
   ]
  },
  {
   "cell_type": "code",
   "execution_count": null,
   "metadata": {},
   "outputs": [],
   "source": [
    "x=4\n",
    "y=7\n",
    "Print(x)\n",
    "print(X)\n",
    "print(\"x\")\n",
    "chien=\"milou\"\n",
    "print(milou)"
   ]
  }
 ],
 "metadata": {
  "colab": {
   "name": "GMP-S1.ipynb",
   "provenance": [],
   "toc_visible": true
  },
  "kernelspec": {
   "display_name": "Python 3",
   "language": "python",
   "name": "python3"
  },
  "language_info": {
   "codemirror_mode": {
    "name": "ipython",
    "version": 3
   },
   "file_extension": ".py",
   "mimetype": "text/x-python",
   "name": "python",
   "nbconvert_exporter": "python",
   "pygments_lexer": "ipython3",
   "version": "3.6.7"
  }
 },
 "nbformat": 4,
 "nbformat_minor": 1
}
